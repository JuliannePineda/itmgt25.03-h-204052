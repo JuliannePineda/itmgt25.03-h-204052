{
 "cells": [
  {
   "cell_type": "markdown",
   "metadata": {},
   "source": [
    "# Assignment: Playing with Functions\n",
    "\n",
    "This problem set aims to serve as a stepping stone from basic Python to intermediate Python.  "
   ]
  },
  {
   "cell_type": "markdown",
   "metadata": {},
   "source": [
    "## Problem 1\n",
    "## Factorial (1 point)\n",
    "\n",
    "The **factorial** of a number is the product of that number and all the numbers below it. For example, 5 factorial (denoted 5! in math) is 5 * 4 * 3 * 2 * 1, which is 120.  \n",
    "\n",
    "**Write a function called `problem_1` that takes one positional argument `number`. The function should return  the factorial of `number` as an integer.**\n",
    "\n",
    "Example input/output:  \n",
    "`problem_1(5)` => `120`  \n",
    "`problem_1(10)` => `3628800`  "
   ]
  },
  {
   "cell_type": "code",
   "execution_count": 4,
   "metadata": {},
   "outputs": [
    {
     "data": {
      "text/plain": [
       "3628800"
      ]
     },
     "execution_count": 4,
     "metadata": {},
     "output_type": "execute_result"
    }
   ],
   "source": [
    "\r\n",
    "def problem_1(i):\r\n",
    "    factorial = 1 \r\n",
    "    if i >= 1: \r\n",
    "        for n in range(i , 0, -1):\r\n",
    "            factorial = factorial * n\r\n",
    "        return factorial\r\n",
    "        \r\n",
    "\r\n",
    "problem_1(10)\r\n"
   ]
  },
  {
   "cell_type": "markdown",
   "metadata": {},
   "source": [
    "## Problem 2\n",
    "## Number Guessing Game (2 points) \n",
    "\n",
    "Recall that we use `input()` to ask for user input.  \n",
    "\n",
    "**Write a function called `problem_2` that takes one positional argument `passphrase`. The function should ask the user to enter the passphrase with `input()`. If the user enters the correct passphrase, the function should return the integer `1`. If the user enters the wrong passphrase, the function should keep asking them for the passphrase. If the user gets the passphrase wrong 3 times, the function should return the integer `0`.**  \n",
    "\n",
    "Example input/output:  \n",
    "\n",
    "Function input:  \n",
    "`problem_2(\"chums\")`  \n",
    "Simulated user input:  \n",
    "`joben`  \n",
    "`chums`  \n",
    "Output:  \n",
    "`1`  \n",
    "\n",
    "Function input:  \n",
    "`problem_2(\"annika\")`  \n",
    "Simulated user input:  \n",
    "`joe`  \n",
    "`earl`  \n",
    "`niks`  \n",
    "Output:  \n",
    "`0`"
   ]
  },
  {
   "cell_type": "code",
   "execution_count": 232,
   "metadata": {},
   "outputs": [
    {
     "data": {
      "text/plain": [
       "0"
      ]
     },
     "execution_count": 232,
     "metadata": {},
     "output_type": "execute_result"
    }
   ],
   "source": [
    "def problem_2(passphrase):\r\n",
    "    for z in range(3):\r\n",
    "        tries = input()\r\n",
    "        if passphrase == tries:\r\n",
    "            return 1 \r\n",
    "    \r\n",
    "    return 0\r\n",
    "       \r\n",
    "        \r\n",
    "problem_2(\"chums\")"
   ]
  },
  {
   "cell_type": "markdown",
   "metadata": {},
   "source": [
    "## Problem 3\r\n",
    "## Temperature Converter (3 points)\r\n",
    "\r\n",
    "A common beginner's exercise is to write a function that can convert a temperature value from one format, such as Fahrenheit, to another, such as Celsius.  \r\n",
    "\r\n",
    "In this problem, extend this idea to convert temperatures freely to and from any of the following formats: Celsius, Fahrenheit, and Kelvin.  \r\n",
    "\r\n",
    "**Write a function called `problem_3` that takes three positional arguments: (float) `temp`, (string) `original_format`, (string) `new_format`. The function should convert `temp`, which is represented in `original_format`, to its equivalent value in the `new_format.`**  \r\n",
    "\r\n",
    "Example input/output:  \r\n",
    "`problem_3(0.0, \"Celsius\", \"Fahrenheit\")` => `32.0`  \r\n",
    "`problem_3(500.0, \"Kelvin\", \"Fahrenheit\")` => `440.33`  \r\n",
    "`problem_3(273.0, \"Kelvin\", \"Celsius\")` => `0.0`  \r\n",
    "\r\n",
    "For your convenience:  \r\n",
    "1. The accuracy of your float outputs will only be evaluated to within 2 decimal places. (In other words: don't worry too much about getting the calculation *exactly* right.)"
   ]
  },
  {
   "cell_type": "code",
   "execution_count": 117,
   "metadata": {},
   "outputs": [
    {
     "data": {
      "text/plain": [
       "440.33000000000004"
      ]
     },
     "execution_count": 117,
     "metadata": {},
     "output_type": "execute_result"
    }
   ],
   "source": [
    "\r\n",
    "def problem_3(temp, original_format, new_format):\r\n",
    "    while(True):\r\n",
    "        value = 0\r\n",
    "        if original_format == \"Celsius\" and new_format == \"Fahrenheit\":\r\n",
    "            value = (temp * 9/5) + 32\r\n",
    "        elif original_format == \"Celsius\" and new_format == \"Kevin\":\r\n",
    "            value = temp + 273.15\r\n",
    "        elif original_format == \"Fahrenheit\" and new_format== \"Celsius\":\r\n",
    "            value = (temp - 32) * 5/9\r\n",
    "        elif original_format == \"Fahrenheit\" and new_format == \"Kevin\":\r\n",
    "            value = (temp - 32) * 5/9 + 273.15\r\n",
    "        elif original_format == \"Kevin\" and new_format == \"Celsius\":\r\n",
    "            value = temp - 273.15\r\n",
    "        elif original_format == \"Kevin\" and new_format == \"Fahrenheit\":\r\n",
    "            value = (temp - 273.15) * 9/5 + 32\r\n",
    "        \r\n",
    "        return value \r\n",
    "\r\n",
    "problem_3(500.0, \"Kevin\", \"Fahrenheit\")    \r\n",
    "    "
   ]
  },
  {
   "cell_type": "markdown",
   "metadata": {},
   "source": [
    "## Problem 4\n",
    "## Exact Change (4 points)\n",
    "\n",
    "Part of a cashier's job is to give exact change to customers. It can be difficult to mentally tally how many coins of each type (i.e., 1 peso, 25 centavos, 10 centavos, etc.) to give to a customer.  \n",
    "\n",
    "**Write a function called `problem_4` that takes 1 positional argument `amount` in centavos. The function should return a string that describes the appropriate amounts of each type of coin to give to the customer. The string should be formatted as follows:**  \n",
    "\n",
    "`\"1P:{num}/25C:{num}/10C:{num}/5C:{num}/1C:{num}\"`  \n",
    "\n",
    "**Use the fewest number of total coins possible.**  \n",
    "\n",
    "Example input/output:  \n",
    "`problem_4(105)` => `\"1P:1/25C:0/10C:0/5C:1/1C:0\"`  \n",
    "`problem_4(69)` => `\"1P:0/25C:2/10C:1/5C:1/1C:4\"`  "
   ]
  },
  {
   "cell_type": "code",
   "execution_count": 222,
   "metadata": {},
   "outputs": [
    {
     "data": {
      "text/plain": [
       "'1P:2/25C:0/10C:0/5C:0/1C:0'"
      ]
     },
     "execution_count": 222,
     "metadata": {},
     "output_type": "execute_result"
    }
   ],
   "source": [
    "def problem_4(amount):\r\n",
    "    One_P = 0 \r\n",
    "    Two_Five_C = 0\r\n",
    "    Ten_C = 0\r\n",
    "    Five_C = 0\r\n",
    "    One_C = 0\r\n",
    "    if amount >= 100:\r\n",
    "        One_P = int(amount/100)\r\n",
    "        amount = amount % 100\r\n",
    "    if amount >= 25:\r\n",
    "        Two_Five_C = int(amount/25)\r\n",
    "    amount = amount % 25\r\n",
    "    if amount >= 10:\r\n",
    "        Ten_C = int(amount/10)\r\n",
    "    amount = amount % 10\r\n",
    "    if amount >= 5:\r\n",
    "        Five_C = int((amount)/5)\r\n",
    "    amount = amount % 5\r\n",
    "    if amount >= 1:\r\n",
    "        One_C = int((amount)/1)\r\n",
    "    \r\n",
    "    return f\"1P:{One_P}/25C:{Two_Five_C}/10C:{Ten_C}/5C:{Five_C}/1C:{One_C}\"\r\n",
    "    \r\n",
    "problem_4(200)"
   ]
  },
  {
   "cell_type": "markdown",
   "metadata": {},
   "source": [
    "## Problem 5\n",
    "## Invert Capitalization (3 points)  \n",
    "\n",
    "**Write a function called `problem_5` that takes 1 positional argument (string) `message`. The function should return a string whose uppercase letters are now lowercase and whose lowercase letters are now uppercase. Spaces should be left alone.**  \n",
    "\n",
    "Example input/output:  \n",
    "`problem_5(\"Test Me\")` => `\"tEST mE\"`  \n",
    "`problem_5(\"asSiGnmENt\")` => `\"ASsIgNMenT\"`  \n",
    "\n",
    "For your convenience:  \n",
    "1. The message will only ever consist of spaces, lowercase letters, and uppercase letters.  \n",
    "\n",
    "Hint: Research on `ord()` and `chr()`.  "
   ]
  },
  {
   "cell_type": "code",
   "execution_count": 3,
   "metadata": {},
   "outputs": [
    {
     "data": {
      "text/plain": [
       "'ASsIgNMenT'"
      ]
     },
     "execution_count": 3,
     "metadata": {},
     "output_type": "execute_result"
    }
   ],
   "source": [
    "def problem_5(message):\r\n",
    "    final = \"\"\r\n",
    "    for i in range(len(message)):\r\n",
    "         \r\n",
    "        if 65 <= ord(message[i]) <= 90:\r\n",
    "            x = ord(message[i]) + 32\r\n",
    "        elif 97 <= ord(message[i]) <= 122: \r\n",
    "            x = ord(message[i]) - 32\r\n",
    "        else: \r\n",
    "            x = ord(message[i])\r\n",
    "        final += chr(x)\r\n",
    "        \r\n",
    "    return final\r\n",
    "\r\n",
    "\r\n",
    "problem_5(\"asSiGnmENt\")"
   ]
  }
 ],
 "metadata": {
  "interpreter": {
   "hash": "7ae4ede1b2604d18e1cdd107e86987c6a1cc8125b2a7c1b3c13279cd16da2065"
  },
  "kernelspec": {
   "display_name": "Python 3.9.5 64-bit",
   "name": "python3"
  },
  "language_info": {
   "name": "python",
   "version": ""
  }
 },
 "nbformat": 4,
 "nbformat_minor": 5
}
